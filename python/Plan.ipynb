{
 "cells": [
  {
   "cell_type": "code",
   "execution_count": 1,
   "metadata": {},
   "outputs": [],
   "source": [
    "// !curl -fsSL https://deno.land/x/install/install.sh | sh"
   ]
  },
  {
   "cell_type": "code",
   "execution_count": 2,
   "metadata": {},
   "outputs": [],
   "source": [
    "// !deno jupyter --unstable"
   ]
  },
  {
   "cell_type": "code",
   "execution_count": 3,
   "metadata": {},
   "outputs": [
    {
     "name": "stdout",
     "output_type": "stream",
     "text": [
      "hello\n"
     ]
    }
   ],
   "source": [
    "console.log('hello')\n",
    "\n",
    "\n",
    "\n",
    "\n"
   ]
  },
  {
   "cell_type": "code",
   "execution_count": 4,
   "metadata": {},
   "outputs": [
    {
     "data": {
      "text/html": [
       "<h1>Hello, world!</h1>"
      ]
     },
     "execution_count": 4,
     "metadata": {},
     "output_type": "execute_result"
    }
   ],
   "source": [
    "const { html } = Deno.jupyter;\n",
    "\n",
    "\n",
    "\n",
    "html`<h1>Hello, world!</h1>`\n",
    "\n"
   ]
  },
  {
   "cell_type": "markdown",
   "metadata": {},
   "source": [
    "\n",
    "# Start \n",
    "\n",
    "## Rencontre du premier perso: ( StartBuild )\n",
    "\n",
    "    = Node0:\n",
    "        #SayHello \n",
    "        #FirstPath. \n",
    "            /buildPathTo @bestNode   \n",
    "        #FirstHouse. \n",
    "            /buildHouse t:House_4b grow:10\n",
    "\n",
    "    = House0:\n",
    "        /callGosth.\n",
    "        #HomeSweetHome\n",
    "        #FirstLab.\n",
    "\n",
    "    = Node0:\n",
    "        /callGosth\n",
    "        #BuildFirstLab\n",
    "            /buildHouse t:House_3a grow:10\n",
    "        \n",
    "    = Lab0:\n",
    "        /callGosth\n",
    "\n",
    "\n",
    "\n",
    "    = Node\n",
    "\n",
    "    \n",
    "\n"
   ]
  }
 ],
 "metadata": {
  "kernelspec": {
   "display_name": "Deno",
   "language": "typescript",
   "name": "deno"
  },
  "language_info": {
   "file_extension": ".ts",
   "mimetype": "text/x.typescript",
   "name": "typescript",
   "nb_converter": "script",
   "pygments_lexer": "typescript",
   "version": "5.4.5"
  }
 },
 "nbformat": 4,
 "nbformat_minor": 2
}
