{
 "cells": [
  {
   "cell_type": "code",
   "execution_count": 1,
   "metadata": {},
   "outputs": [],
   "source": [
    "# !pip install matplotlib "
   ]
  },
  {
   "cell_type": "markdown",
   "metadata": {},
   "source": [
    "# NUMPY SHAPE SUCKS "
   ]
  },
  {
   "cell_type": "code",
   "execution_count": null,
   "metadata": {},
   "outputs": [],
   "source": []
  },
  {
   "cell_type": "code",
   "execution_count": 2,
   "metadata": {},
   "outputs": [],
   "source": [
    "import json\n",
    "\n",
    "\n",
    "from typing import List, Tuple\n",
    "from typing_extensions import Self \n",
    "\n",
    "from PIL import Image\n",
    "from IPython.display import HTML\n",
    "from io import BytesIO\n",
    "from base64 import b64encode\n",
    "\n"
   ]
  },
  {
   "cell_type": "code",
   "execution_count": null,
   "metadata": {},
   "outputs": [],
   "source": [
    "\n",
    "\n"
   ]
  },
  {
   "cell_type": "markdown",
   "metadata": {},
   "source": [
    "# REF OBJ "
   ]
  },
  {
   "cell_type": "code",
   "execution_count": 3,
   "metadata": {},
   "outputs": [
    {
     "ename": "ModuleNotFoundError",
     "evalue": "No module named 'mdatabase'",
     "output_type": "error",
     "traceback": [
      "\u001b[0;31m---------------------------------------------------------------------------\u001b[0m",
      "\u001b[0;31mModuleNotFoundError\u001b[0m                       Traceback (most recent call last)",
      "Cell \u001b[0;32mIn[3], line 6\u001b[0m\n\u001b[1;32m      3\u001b[0m \u001b[38;5;28;01mimport\u001b[39;00m \u001b[38;5;21;01mshapez2_operation\u001b[39;00m \u001b[38;5;28;01mas\u001b[39;00m \u001b[38;5;21;01mref\u001b[39;00m\n\u001b[1;32m      4\u001b[0m \u001b[38;5;28;01mimport\u001b[39;00m \u001b[38;5;21;01mshapez2_render\u001b[39;00m \u001b[38;5;28;01mas\u001b[39;00m \u001b[38;5;21;01mRender\u001b[39;00m \n\u001b[0;32m----> 6\u001b[0m \u001b[38;5;28;01mfrom\u001b[39;00m \u001b[38;5;21;01mmdatabase\u001b[39;00m \u001b[38;5;28;01mimport\u001b[39;00m \u001b[38;5;241m*\u001b[39m\n",
      "\u001b[0;31mModuleNotFoundError\u001b[0m: No module named 'mdatabase'"
     ]
    }
   ],
   "source": [
    "\n",
    "import shapez2_render as Render \n",
    "import shapez2_gameinfo as GlobalInfos \n",
    "import shapez2_operation as ref\n",
    "import shapez2_render as Render \n",
    "\n",
    "from utils.mdatabase import *\n",
    "\n"
   ]
  },
  {
   "cell_type": "code",
   "execution_count": 4,
   "metadata": {},
   "outputs": [],
   "source": [
    "class RefShape:\n",
    "    def __init__(self, shapeCode:str) -> None:\n",
    "        self.shape = ref.Shape.fromShapeCode(shapeCode)\n",
    "  \n",
    "    def toCode(self) -> str:\n",
    "        return self.shape.toShapeCode()\n",
    "    \n",
    "    def show(self, comment=None) -> str:\n",
    "        pil_im = Render.renderShape(self.toCode(), 100)._image\n",
    "        b = BytesIO()  \n",
    "        pil_im.save(b, format='png')\n",
    "        if comment:\n",
    "            print (comment)\n",
    "        display(HTML(\"<img style='padding:0;margin:0' src='data:image/png;base64,{0}'/>\".format(b64encode(b.getvalue()).decode('utf-8'))))\n",
    "\n",
    "\n",
    "    def __repr__(self) -> str:\n",
    "        return self.toCode()\n",
    "        layers = self.shape.toListOfLayers()\n",
    "        layers = [    [s[i:i+2] for i in range(0, len(s), 2)] for s in layers]\n",
    "        h1, h2 = \"\", \"\"\n",
    "        s1 = \"\"\n",
    "        s2 = \"\"\n",
    "        for l in range(0, len(layers)):\n",
    "            h1 += \"_____    \"\n",
    "            s1 += layers[l][3] + \" \" + layers[l][0] + \"    \"\n",
    "            s2 += layers[l][2] + \" \" + layers[l][1] + \"    \"\n",
    "            h2 += \"⎺⎺⎺⎺⎺    \"\n",
    "        return ('\\n'.join([h1, s1, s2, h2]))\n",
    "        # for layer\n",
    "        # print(layers)\n",
    "        # layers.reverse()\n",
    "        # print (\"________\\n\" + '\\n'.join(layers) + \"\\n⎺⎺⎺⎺⎺⎺⎺⎺\")\n",
    "\n",
    "\n",
    "def refShow(sl: List[RefShape]) -> None:\n",
    "    \n",
    "    def toPilImgData (s:RefShape):\n",
    "        pil_im = Render.renderShape(s.toCode(), 100)._image\n",
    "        b = BytesIO()  \n",
    "        pil_im.save(b, format='png')\n",
    "        return b64encode(b.getvalue()).decode('utf-8')\n",
    "\n",
    "    imgsData = [toPilImgData(s) if s else None for s in sl]\n",
    "\n",
    "    htmlImgs =  [\"<img style='padding:0;margin:0' width='40px' height='40px' src='data:image/png;base64,{0}'/>\".format(data) if data else '' for data in imgsData]\n",
    "    htmlImgs = ''.join(htmlImgs)\n",
    "    display(HTML(htmlImgs))\n",
    "\n",
    "     \n",
    "\n",
    "def refrot90(s:RefShape) -> RefShape:\n",
    "    shape2 = ref.rotate90CW(s.shape)[0]\n",
    "    return RefShape(shape2.toShapeCode())\n",
    "\n",
    "def refrot270(s:RefShape) -> RefShape:\n",
    "    shape2 = ref.rotate90CCW(s.shape)[0]\n",
    "    return RefShape(shape2.toShapeCode())\n",
    "\n",
    "def refrot180(s:RefShape) -> RefShape:\n",
    "    shape2 = ref.rotate180(s.shape)[0]\n",
    "    return RefShape(shape2.toShapeCode())\n",
    "\n",
    "def refpushpin(s:RefShape) -> RefShape:\n",
    "    shape2 = ref.pushPin(s.shape)[0]\n",
    "    return RefShape(shape2.toShapeCode())\n",
    "\n",
    "def refgenCrystal(s:RefShape, color:str) -> RefShape:\n",
    "    shape2 = ref.genCrystal(s.shape, color)[0]\n",
    "    return RefShape(shape2.toShapeCode())\n",
    "\n",
    "\n",
    "def refcut(s:RefShape) -> list[RefShape]:\n",
    "    shape = ref.coreCut(s.shape)\n",
    "    return RefShape(shape[0].toShapeCode()), RefShape(shape[1].toShapeCode())\n",
    "\n",
    "def refswap(s:RefShape, shapeB:RefShape) -> list[RefShape]:\n",
    "    shape = ref.swapHalves(s.shape, shapeB.shape)\n",
    "    return RefShape(shape[0].toShapeCode()), RefShape(shape[1].toShapeCode())\n",
    "\n",
    "def refstack(s:RefShape, topShape:RefShape) -> RefShape:\n",
    "    shape = ref.coreStack(s.shape, topShape.shape)\n",
    "    return RefShape(shape[0].toShapeCode())\n",
    "\n",
    "def refpaint(s:RefShape, color:str) -> RefShape:\n",
    "    shape = ref.topPaint(s.shape, color)\n",
    "    return RefShape(shape[0].toShapeCode())\n",
    "\n",
    "def refpaint(s:RefShape, color:str) -> RefShape:\n",
    "    shape = ref.topPaint(s.shape, color)\n",
    "    return RefShape(shape[0].toShapeCode())\n",
    "\n",
    "def reflayers(s:RefShape) -> Tuple[RefShape, RefShape, RefShape, RefShape]:\n",
    "    sCode = s.toCode()\n",
    "    sCodePart = sCode.split(':')\n",
    "    return [RefShape(sCodePart[i]) if i < len(sCodePart) else None for i in range(0, 4)]\n",
    "    \n",
    "def refanalye(s:RefShape) -> Tuple[RefShape, str]:\n",
    "    sCode = s.toCode()\n",
    "    sCodeFirstPart = sCode.split(':')[0]\n",
    "    color = '-' if  sCodeFirstPart[0] in ('P', '-') else sCodeFirstPart[1]\n",
    "    colorShape = '-' if  sCodeFirstPart[0] in ('P', '-') else 'u'\n",
    "    codeAnalyse = sCodeFirstPart[0] + colorShape + \"------\"\n",
    "    return RefShape(codeAnalyse), color\n",
    "\n",
    "\n",
    "def refquadrot(s:RefShape) -> Tuple[RefShape, RefShape, RefShape, RefShape]:\n",
    "    CB = refrot90(s)\n",
    "    CC = refrot90(CB)\n",
    "    CD = refrot90(CC)\n",
    "    return s, CB , CC, CD\n",
    "\n"
   ]
  },
  {
   "cell_type": "code",
   "execution_count": null,
   "metadata": {},
   "outputs": [],
   "source": []
  },
  {
   "cell_type": "markdown",
   "metadata": {},
   "source": [
    "# INDEX "
   ]
  },
  {
   "cell_type": "code",
   "execution_count": 5,
   "metadata": {},
   "outputs": [
    {
     "data": {
      "text/plain": [
       "<__main__.InfoShape at 0x111f9a730>"
      ]
     },
     "execution_count": 5,
     "metadata": {},
     "output_type": "execute_result"
    }
   ],
   "source": [
    "\n",
    "class InfoQuad:\n",
    "    \n",
    "    left:Self\n",
    "    right:Self\n",
    "\n",
    "    def __init__(self, quad:RefShape, idxL, idxQ):\n",
    "        self.quad = quad\n",
    "        self.idxL = idxL\n",
    "        self.idxQ = idxQ\n",
    "        self.baseInfo()\n",
    "\n",
    "    def baseInfo(self) -> None:\n",
    "        filterShape , selectedColor = refanalye(self.quad)\n",
    "        self.shapeCode = filterShape.toCode()\n",
    "        self.shapeCode = self.shapeCode if self.shapeCode != 'cu------' else 'P-------'\n",
    "\n",
    "        self.color = selectedColor if selectedColor and selectedColor not in ['-', 'u'] else None\n",
    "        self.isPin = filterShape.toCode() == \"P-------\"\n",
    "        self.isCrystal =  filterShape.toCode() == \"cu------\"\n",
    "        self.isVoid = filterShape.toCode() == \"--------\"\n",
    "        self.isShape = not self.isPin and not self.isCrystal and not self.isVoid\n",
    "\n",
    "    def link(self, tableInfo:List[List[Self]]) -> None:\n",
    "        self.left = tableInfo[self.idxL][(self.idxQ + 1) % 4]\n",
    "        self.right = tableInfo[self.idxL][(self.idxQ - 1) % 4]\n",
    "        self.top = tableInfo[self.idxL + 1][self.idxQ] if self.idxL + 1 < len(tableInfo) else None\n",
    "        self.bottom = tableInfo[self.idxL - 1][self.idxQ] if self.idxL - 1 >= 0 else None\n",
    "\n",
    "    def canLayer(self):\n",
    "        if self.isCrystal:\n",
    "            if self.left.isVoid or self.left.isPin:\n",
    "                return False\n",
    "            if self.right.isVoid or self.right.isPin:\n",
    "                return False\n",
    "        return True            \n",
    "\n",
    "\n",
    "class InfoLayer:\n",
    "    infos:List[InfoQuad]\n",
    "\n",
    "    def __init__(self, infos:List[InfoQuad]):\n",
    "        self.infos = infos\n",
    "\n",
    "\n",
    "    def haveCrytal(self):\n",
    "        return any([i.isCrystal for i in self.infos])\n",
    "\n",
    "    def crystalColor(self):\n",
    "        for quad in self.infos:\n",
    "            if quad.isCrystal:\n",
    "                return quad.color\n",
    "\n",
    "    def canLayer(self):\n",
    "        if self.haveCrytal():\n",
    "            if any([i.isVoid for i in self.infos]) or any([i.isPin for i in self.infos]):\n",
    "                return  False\n",
    "        return True\n",
    "    \n",
    "\n",
    "class InfoQuadRow:\n",
    "    infos:List[InfoQuad]\n",
    "\n",
    "    def __init__(self, infos:List[InfoQuad]):\n",
    "        self.infos = infos\n",
    "\n",
    "    def haveCrytal(self):\n",
    "        return any([i.isCrystal for i in self.infos])\n",
    "\n",
    "\n",
    "class InfoShape:\n",
    "    tableInfo:List[List[InfoQuad]]\n",
    "    layerInfo:List[InfoLayer]\n",
    "    rowInfo:List[InfoQuadRow]\n",
    "\n",
    "    def __init__(self, shape:RefShape):\n",
    "        # Create base info for each quad\n",
    "        self.tableInfo = [ \n",
    "            [\n",
    "                InfoQuad(quad , idxL, idxQ) \n",
    "                for idxQ, quad in enumerate(refquadrot(layer))  \n",
    "            ]\n",
    "            for idxL, layer in enumerate([it for it in reflayers(shape) if it]) \n",
    "        ]\n",
    "        # \n",
    "        self.lSize = len(self.tableInfo)\n",
    "        self.qSize = len(self.tableInfo[0])\n",
    "\n",
    "        # Link shape together\n",
    "        for layerInfo in self.tableInfo: \n",
    "            for quadInfo in layerInfo: \n",
    "                quadInfo.link(self.tableInfo)\n",
    "\n",
    "        # Create layer , and row object\n",
    "        self.layerInfo = [InfoLayer(layer) for layer in self._getLayers()]\n",
    "        self.rowInfo = [InfoQuadRow(row) for row in self._getQuadRow()]\n",
    "\n",
    "\n",
    "    def _getLayers(self) -> List[InfoQuad]:\n",
    "        return self.tableInfo\n",
    "\n",
    "    def _getQuadRow(self) -> List[InfoQuad]:\n",
    "        return [[self.tableInfo[l][q] for l in range(0, self.lSize)] for q in range(0, self.qSize)]\n",
    "    \n",
    "    def canLayer(self):\n",
    "        return  all([lInfo.canLayer() for lInfo in self.layerInfo])\n",
    "\n",
    "InfoShape(RefShape('----crCu'))\n"
   ]
  },
  {
   "cell_type": "code",
   "execution_count": 10,
   "metadata": {},
   "outputs": [
    {
     "data": {
      "text/plain": [
       "[--Cu--Cu, --Cu--Cu, crCucrCu, CuCuCuCu]"
      ]
     },
     "execution_count": 10,
     "metadata": {},
     "output_type": "execute_result"
    }
   ],
   "source": [
    "def transform_simInfo(shape:RefShape):\n",
    "    code = shape.toCode()\n",
    "    codeTab = code.split(':')\n",
    "    outCode = []\n",
    "    outCode.append([c[0:2] + 'Cu' + c[0:2] + 'Cu' for c in codeTab])\n",
    "    outCode.append([c[2:4] + 'Cu' + c[2:4] + 'Cu' for c in codeTab])\n",
    "    outCode.append([c[4:6] + 'Cu' + c[4:6] + 'Cu' for c in codeTab])\n",
    "    outCode.append([c[6:8] + 'Cu' + c[6:8] + 'Cu' for c in codeTab])\n",
    "\n",
    "    outCode = [':'.join(it) for it in outCode]\n",
    "    outShape = [RefShape(it) for it in outCode]\n",
    "    return outShape\n",
    "\n",
    "\n",
    "transform_simInfo(RefShape('----crCu'))"
   ]
  },
  {
   "cell_type": "code",
   "execution_count": 11,
   "metadata": {},
   "outputs": [],
   "source": [
    "def createQuadShape(qinfo:InfoQuad):\n",
    "    if qinfo.isVoid:\n",
    "        return None\n",
    "    if qinfo.isPin:\n",
    "        return RefShape('P-------')\n",
    "\n",
    "    shape = RefShape(qinfo.shapeCode)\n",
    "    if qinfo.color:\n",
    "        shape = refpaint(shape, qinfo.color)\n",
    "    return shape  \n",
    "\n",
    "\n",
    "def createLayerShape(layerInfo:List[InfoQuad]):\n",
    "    layerShape = None\n",
    "    for idx, qInfo in enumerate(layerInfo):\n",
    "        shape = createQuadShape(qInfo)\n",
    "        if shape is None :\n",
    "            continue\n",
    "        for i in range(0, idx):\n",
    "            shape = refrot270(shape)\n",
    "        if layerShape is None: \n",
    "            layerShape = shape\n",
    "        else:\n",
    "            layerShape = refstack(layerShape, shape)\n",
    "\n",
    "\n",
    "    return layerShape"
   ]
  },
  {
   "cell_type": "code",
   "execution_count": 12,
   "metadata": {},
   "outputs": [],
   "source": [
    "       \n",
    "def stackLayer(shapeInfo:InfoShape) -> RefShape: \n",
    "    \n",
    "    shape = None\n",
    "    for lInfo in shapeInfo.layerInfo:\n",
    "        layerShape = createLayerShape(lInfo.infos)\n",
    "        if shape is None: \n",
    "            shape = layerShape\n",
    "        else:\n",
    "            shape = refstack(shape, layerShape)\n",
    "\n",
    "        if lInfo.haveCrytal():\n",
    "            shape = refgenCrystal(shape, lInfo.crystalColor())\n",
    "\n",
    "    return shape\n",
    "    \n",
    "\n",
    "def quadSwap(shapeInfo:InfoShape) -> RefShape:\n",
    "\n",
    "    shape = None\n",
    "\n",
    "    \n",
    "\n"
   ]
  },
  {
   "cell_type": "code",
   "execution_count": 13,
   "metadata": {},
   "outputs": [
    {
     "data": {
      "text/plain": [
       "RrRgRbRy:CrCgCbCy:WrWgWbWy:SrSgSbSy"
      ]
     },
     "execution_count": 13,
     "metadata": {},
     "output_type": "execute_result"
    }
   ],
   "source": [
    "SHAPE_TO_BUILD = \"RrRgRbRy:CrCgCbCy:WrWgWbWy:SrSgSbSy\"\n",
    "\n",
    "\n",
    "def generateShape(shapeCode):\n",
    "    shape = RefShape(shapeCode)\n",
    "   \n",
    "    shapeInfo = InfoShape(shape)\n",
    "    \n",
    "    if shapeInfo.canLayer():\n",
    "        return stackLayer(shapeInfo)\n",
    "    return None\n",
    "\n",
    "# print (json.dumps(quadLayersInfo[0][0], indent=4))\n",
    "generateShape(SHAPE_TO_BUILD)\n"
   ]
  },
  {
   "cell_type": "code",
   "execution_count": 14,
   "metadata": {},
   "outputs": [
    {
     "ename": "NameError",
     "evalue": "name 'MDataBase' is not defined",
     "output_type": "error",
     "traceback": [
      "\u001b[0;31m---------------------------------------------------------------------------\u001b[0m",
      "\u001b[0;31mNameError\u001b[0m                                 Traceback (most recent call last)",
      "Cell \u001b[0;32mIn[14], line 1\u001b[0m\n\u001b[0;32m----> 1\u001b[0m testedShapes \u001b[38;5;241m=\u001b[39m \u001b[43mMDataBase\u001b[49m(\u001b[38;5;124m\"\u001b[39m\u001b[38;5;124mkey_1_on_1\u001b[39m\u001b[38;5;124m\"\u001b[39m)\u001b[38;5;241m.\u001b[39mget_n_layer_shapes(\u001b[38;5;241m1\u001b[39m)\n\u001b[1;32m      2\u001b[0m \u001b[38;5;28mprint\u001b[39m (\u001b[38;5;28mlen\u001b[39m(testedShapes))\n\u001b[1;32m      5\u001b[0m \u001b[38;5;28;01mfor\u001b[39;00m it \u001b[38;5;129;01min\u001b[39;00m testedShapes[\u001b[38;5;241m0\u001b[39m:]:\n",
      "\u001b[0;31mNameError\u001b[0m: name 'MDataBase' is not defined"
     ]
    }
   ],
   "source": [
    "testedShapes = MDataBase(\"key_1_on_1\").get_n_layer_shapes(1)\n",
    "print (len(testedShapes))\n",
    "\n",
    "\n",
    "for it in testedShapes[0:]:\n",
    "    it = it.replace('cu', 'cr')\n",
    "    # print ('{' + it + '}')\n",
    "    genShape = generateShape(it)\n",
    "\n",
    "    if genShape is None:\n",
    "        pass\n",
    "        # print (\"None:\", it)\n",
    "    elif ( genShape.toCode() != it): \n",
    "        pass\n",
    "        print (\"Error:\", it, genShape.toCode())\n",
    "    else :\n",
    "        pass\n",
    "        # print (\"OK:\", it, genShape.toCode())\n",
    "\n",
    "\n"
   ]
  },
  {
   "cell_type": "code",
   "execution_count": null,
   "metadata": {},
   "outputs": [],
   "source": []
  },
  {
   "cell_type": "code",
   "execution_count": 167,
   "metadata": {},
   "outputs": [],
   "source": [
    "\n",
    "\n",
    "TMAM_SHAPE = [\n",
    "    'cr----cr:cb----cb:RgRgRgRg:cw----cw:cccccccc',\n",
    "    'P---P---:P-------:crCu--Cu',\n",
    "    'P---P---:Ru------:crCu--Cu',\n",
    "    'Cu------:CuCu----:CucrCuCu',\n",
    "    'P---P---:P-------:crCu--Cu:P-------:CucrCu--',\n",
    "    \"Cu------:CuCu--Cu\",\n",
    "    \"crcr----:RgRgRgRg:cbcb----:cwcwcwcw\"\n",
    "    \"Cu------:CuCu----:CucrCuCu\", \n",
    "]\n",
    "\n",
    "\n",
    "\n",
    "a = 1 "
   ]
  },
  {
   "cell_type": "code",
   "execution_count": 130,
   "metadata": {},
   "outputs": [
    {
     "data": {
      "text/html": [
       "<img style='padding:0;margin:0' src='data:image/png;base64,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'/>"
      ],
      "text/plain": [
       "<IPython.core.display.HTML object>"
      ]
     },
     "metadata": {},
     "output_type": "display_data"
    },
    {
     "data": {
      "text/html": [
       "<img style='padding:0;margin:0' src='data:image/png;base64,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'/>"
      ],
      "text/plain": [
       "<IPython.core.display.HTML object>"
      ]
     },
     "metadata": {},
     "output_type": "display_data"
    },
    {
     "data": {
      "text/html": [
       "<img style='padding:0;margin:0' src='data:image/png;base64,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'/>"
      ],
      "text/plain": [
       "<IPython.core.display.HTML object>"
      ]
     },
     "metadata": {},
     "output_type": "display_data"
    },
    {
     "data": {
      "text/html": [
       "<img style='padding:0;margin:0' src='data:image/png;base64,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'/>"
      ],
      "text/plain": [
       "<IPython.core.display.HTML object>"
      ]
     },
     "metadata": {},
     "output_type": "display_data"
    }
   ],
   "source": [
    "\n",
    "a = RefShape('Cr------:CrCr--Cr')\n",
    "QA = RefShape('CrRgCrRg:CrRgCrRg')\n",
    "QB = RefShape('--Rg--Rg:CrRgCrRg')\n",
    "QC = RefShape('--Rg--Rg:--Rg--Rg')\n",
    "QD = RefShape('--Rg--P-:CrRgCrRg')\n",
    "\n",
    "a.show()\n",
    "\n",
    "QAB, _ = refswap(QA, refrot90(QB))\n",
    "QDC, _ = refswap(QC, refrot90(QD))\n",
    "\n",
    "QAB.show()\n",
    "QDC.show()\n",
    "\n",
    "final, _ = refswap(refrot90(QAB), refrot270(QDC))\n",
    "final.show()"
   ]
  },
  {
   "cell_type": "code",
   "execution_count": 21,
   "metadata": {},
   "outputs": [],
   "source": [
    "\n"
   ]
  },
  {
   "cell_type": "code",
   "execution_count": null,
   "metadata": {},
   "outputs": [],
   "source": []
  }
 ],
 "metadata": {
  "kernelspec": {
   "display_name": "Python 3",
   "language": "python",
   "name": "python3"
  },
  "language_info": {
   "codemirror_mode": {
    "name": "ipython",
    "version": 3
   },
   "file_extension": ".py",
   "mimetype": "text/x-python",
   "name": "python",
   "nbconvert_exporter": "python",
   "pygments_lexer": "ipython3",
   "version": "3.9.6"
  }
 },
 "nbformat": 4,
 "nbformat_minor": 2
}
